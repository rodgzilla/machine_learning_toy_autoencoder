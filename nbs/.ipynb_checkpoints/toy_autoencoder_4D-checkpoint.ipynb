{
 "cells": [
  {
   "cell_type": "markdown",
   "metadata": {},
   "source": [
    "# Introduction\n",
    "\n",
    "The goal of this notebook is to provide a basic implementation of the a convolutional [autoencoder](https://en.wikipedia.org/wiki/Autoencoder). The goal of this network is to compute the identity function, _i.e._ reconstruct an image as close as possible to its input. This task is not trivial as in the network, the data has to go through a bottleneck. After the training, we can split the network in two parts: the encoder and the decoder. They respectively compress and uncompress the information.  "
   ]
  },
  {
   "cell_type": "code",
   "execution_count": 1,
   "metadata": {
    "collapsed": false
   },
   "outputs": [
    {
     "name": "stderr",
     "output_type": "stream",
     "text": [
      "Using TensorFlow backend.\n"
     ]
    }
   ],
   "source": [
    "%matplotlib inline\n",
    "import numpy             as np\n",
    "import matplotlib.pyplot as plt\n",
    "import keras.backend     as K\n",
    "\n",
    "from keras.models       import Sequential\n",
    "from keras.layers       import Dense\n",
    "from keras.layers       import BatchNormalization\n",
    "from keras.layers       import Reshape\n",
    "from keras.layers       import UpSampling2D\n",
    "from keras.layers       import Convolution2D\n",
    "from keras.layers       import Activation\n",
    "from keras.layers       import Flatten\n",
    "from keras.layers       import AveragePooling2D\n",
    "from keras.optimizers   import Adam\n",
    "from keras.datasets     import mnist\n",
    "\n",
    "from tqdm import tqdm"
   ]
  },
  {
   "cell_type": "code",
   "execution_count": 2,
   "metadata": {
    "collapsed": true
   },
   "outputs": [],
   "source": [
    "def limit_mem():\n",
    "    cfg = K.tf.ConfigProto()\n",
    "    cfg.gpu_options.allow_growth = True\n",
    "    K.set_session(K.tf.Session(config=cfg))"
   ]
  },
  {
   "cell_type": "markdown",
   "metadata": {},
   "source": [
    "We load the MNIST data and reshape it into the 2D arrays."
   ]
  },
  {
   "cell_type": "code",
   "execution_count": 3,
   "metadata": {
    "collapsed": false
   },
   "outputs": [],
   "source": [
    "(X_train, y_train), (X_test, y_test) = mnist.load_data()\n",
    "n       = len(X_train)\n",
    "X_train = X_train.reshape(n          , -1).astype(np.float32)\n",
    "X_test  = X_test.reshape( len(X_test), -1).astype(np.float32)\n",
    "X       = np.concatenate([X_train, X_test])\n",
    "X       = (X - 127.5) / 127.5\n",
    "X       = np.reshape(X, (-1, 28, 28, 1))"
   ]
  },
  {
   "cell_type": "markdown",
   "metadata": {},
   "source": [
    "We now choose the number of dimensions of the code."
   ]
  },
  {
   "cell_type": "code",
   "execution_count": 4,
   "metadata": {
    "collapsed": true
   },
   "outputs": [],
   "source": [
    "encoding_size = 4"
   ]
  },
  {
   "cell_type": "markdown",
   "metadata": {},
   "source": [
    "The encoder is a sequence of convolutional layers and average pooling with a fully connected layer to produce the final code."
   ]
  },
  {
   "cell_type": "code",
   "execution_count": 5,
   "metadata": {
    "collapsed": false
   },
   "outputs": [],
   "source": [
    "encoder = Sequential([\n",
    "    Convolution2D(64, (3, 3), padding = 'same', input_shape = (28, 28, 1)),\n",
    "    BatchNormalization(axis = 1),\n",
    "    Activation('relu'),\n",
    "    Convolution2D(64, (3, 3), padding = 'same'),\n",
    "    BatchNormalization(axis = 1),\n",
    "    Activation('relu'),\n",
    "    AveragePooling2D(),\n",
    "    Convolution2D(128, (3, 3), padding = 'same'),\n",
    "    BatchNormalization(axis = 1),\n",
    "    Activation('relu'),\n",
    "    Convolution2D(128, (3, 3), padding = 'same'),\n",
    "    BatchNormalization(axis = 1),\n",
    "    Activation('relu'),\n",
    "    AveragePooling2D(),\n",
    "    Flatten(),\n",
    "    Dense(128),\n",
    "    BatchNormalization(),\n",
    "    Activation('relu'),\n",
    "    Dense(encoding_size),\n",
    "    Activation('tanh')\n",
    "])"
   ]
  },
  {
   "cell_type": "markdown",
   "metadata": {},
   "source": [
    "The decoder first applies a fully connected layer to reshape the input into a shape that 'divide' the final picture size (7, 7, 1). After that, a sequence of upsamplings and convolutions is applied to reach the correct size."
   ]
  },
  {
   "cell_type": "code",
   "execution_count": 6,
   "metadata": {
    "collapsed": true
   },
   "outputs": [],
   "source": [
    "decoder = Sequential([\n",
    "    Dense(49, input_shape = (encoding_size,)),\n",
    "    BatchNormalization(),\n",
    "    Activation('relu'),\n",
    "    Reshape((7, 7, 1)),\n",
    "    Convolution2D(128, (3, 3), padding = 'same'),\n",
    "    BatchNormalization(axis = 1),\n",
    "    Activation('relu'),\n",
    "    Convolution2D(128, (3, 3), padding = 'same'),\n",
    "    BatchNormalization(axis = 1),\n",
    "    Activation('relu'),\n",
    "    UpSampling2D(),\n",
    "    Convolution2D(64, (3, 3), padding = 'same'),\n",
    "    BatchNormalization(axis = 1),\n",
    "    Activation('relu'),\n",
    "    Convolution2D(64, (3, 3), padding = 'same'),\n",
    "    BatchNormalization(axis = 1),\n",
    "    Activation('relu'),\n",
    "    UpSampling2D(),\n",
    "    Convolution2D(1, (3, 3), padding = 'same', activation = 'tanh')\n",
    "])"
   ]
  },
  {
   "cell_type": "markdown",
   "metadata": {},
   "source": [
    "As explained earlier, the autoencoder is a concatenation of the encoder and the decoder."
   ]
  },
  {
   "cell_type": "code",
   "execution_count": 7,
   "metadata": {
    "collapsed": true
   },
   "outputs": [],
   "source": [
    "autoencoder = Sequential([\n",
    "    encoder,\n",
    "    decoder\n",
    "])\n",
    "autoencoder.compile(optimizer = Adam(), loss = 'mse')"
   ]
  },
  {
   "cell_type": "markdown",
   "metadata": {},
   "source": [
    "To test the architecture, we select a sample of the dataset to train the autoencoder."
   ]
  },
  {
   "cell_type": "code",
   "execution_count": 8,
   "metadata": {
    "collapsed": true
   },
   "outputs": [],
   "source": [
    "X_sample = np.random.permutation(X)[:10000]"
   ]
  },
  {
   "cell_type": "code",
   "execution_count": 9,
   "metadata": {
    "collapsed": false
   },
   "outputs": [
    {
     "name": "stdout",
     "output_type": "stream",
     "text": [
      "Epoch 1/30\n",
      "34s - loss: 0.2550\n",
      "Epoch 2/30\n",
      "32s - loss: 0.1928\n",
      "Epoch 3/30\n",
      "32s - loss: 0.1707\n",
      "Epoch 4/30\n",
      "32s - loss: 0.1593\n",
      "Epoch 5/30\n",
      "32s - loss: 0.1526\n",
      "Epoch 6/30\n",
      "32s - loss: 0.1464\n",
      "Epoch 7/30\n",
      "32s - loss: 0.1429\n",
      "Epoch 8/30\n",
      "32s - loss: 0.1382\n",
      "Epoch 9/30\n",
      "32s - loss: 0.1365\n",
      "Epoch 10/30\n",
      "32s - loss: 0.1338\n",
      "Epoch 11/30\n",
      "32s - loss: 0.1320\n",
      "Epoch 12/30\n",
      "32s - loss: 0.1299\n",
      "Epoch 13/30\n",
      "32s - loss: 0.1288\n",
      "Epoch 14/30\n",
      "32s - loss: 0.1285\n",
      "Epoch 15/30\n",
      "32s - loss: 0.1266\n",
      "Epoch 16/30\n",
      "32s - loss: 0.1257\n",
      "Epoch 17/30\n",
      "32s - loss: 0.1236\n",
      "Epoch 18/30\n",
      "32s - loss: 0.1228\n",
      "Epoch 19/30\n",
      "32s - loss: 0.1230\n",
      "Epoch 20/30\n",
      "32s - loss: 0.1214\n",
      "Epoch 21/30\n",
      "32s - loss: 0.1208\n",
      "Epoch 22/30\n",
      "32s - loss: 0.1194\n",
      "Epoch 23/30\n",
      "32s - loss: 0.1179\n",
      "Epoch 24/30\n",
      "32s - loss: 0.1194\n",
      "Epoch 25/30\n",
      "32s - loss: 0.1187\n",
      "Epoch 26/30\n",
      "32s - loss: 0.1176\n",
      "Epoch 27/30\n",
      "32s - loss: 0.1169\n",
      "Epoch 28/30\n",
      "32s - loss: 0.1163\n",
      "Epoch 29/30\n",
      "32s - loss: 0.1167\n",
      "Epoch 30/30\n",
      "32s - loss: 0.1159\n"
     ]
    },
    {
     "data": {
      "text/plain": [
       "<keras.callbacks.History at 0x7f848115a438>"
      ]
     },
     "execution_count": 9,
     "metadata": {},
     "output_type": "execute_result"
    }
   ],
   "source": [
    "autoencoder.fit(X_sample, X_sample, batch_size = 128, epochs = 30, verbose = 2)"
   ]
  },
  {
   "cell_type": "code",
   "execution_count": 20,
   "metadata": {
    "collapsed": true
   },
   "outputs": [],
   "source": [
    "autoencoder.optimizer.lr = 1e-4"
   ]
  },
  {
   "cell_type": "code",
   "execution_count": 21,
   "metadata": {
    "collapsed": false
   },
   "outputs": [
    {
     "name": "stdout",
     "output_type": "stream",
     "text": [
      "Epoch 1/10\n",
      "32s - loss: 0.1148\n",
      "Epoch 2/10\n",
      "32s - loss: 0.1150\n",
      "Epoch 3/10\n",
      "32s - loss: 0.1147\n",
      "Epoch 4/10\n",
      "32s - loss: 0.1139\n",
      "Epoch 5/10\n",
      "32s - loss: 0.1124\n",
      "Epoch 6/10\n",
      "32s - loss: 0.1128\n",
      "Epoch 7/10\n",
      "32s - loss: 0.1129\n",
      "Epoch 8/10\n",
      "32s - loss: 0.1128\n",
      "Epoch 9/10\n",
      "32s - loss: 0.1113\n",
      "Epoch 10/10\n",
      "32s - loss: 0.1125\n"
     ]
    },
    {
     "data": {
      "text/plain": [
       "<keras.callbacks.History at 0x7f83f2443b00>"
      ]
     },
     "execution_count": 21,
     "metadata": {},
     "output_type": "execute_result"
    }
   ],
   "source": [
    "autoencoder.fit(X_sample, X_sample, batch_size = 128, epochs = 10, verbose = 2)"
   ]
  },
  {
   "cell_type": "code",
   "execution_count": 28,
   "metadata": {
    "collapsed": true
   },
   "outputs": [],
   "source": [
    "autoencoder.optimizer.lr = 1e-5"
   ]
  },
  {
   "cell_type": "code",
   "execution_count": 29,
   "metadata": {
    "collapsed": false
   },
   "outputs": [
    {
     "name": "stdout",
     "output_type": "stream",
     "text": [
      "Epoch 1/15\n",
      "33s - loss: 0.1241\n",
      "Epoch 2/15\n",
      "33s - loss: 0.1234\n",
      "Epoch 3/15\n",
      "33s - loss: 0.1213\n",
      "Epoch 4/15\n",
      "33s - loss: 0.1195\n",
      "Epoch 5/15\n",
      "33s - loss: 0.1202\n",
      "Epoch 6/15\n",
      "33s - loss: 0.1193\n",
      "Epoch 7/15\n",
      "33s - loss: 0.1197\n",
      "Epoch 8/15\n",
      "33s - loss: 0.1177\n",
      "Epoch 9/15\n",
      "33s - loss: 0.1168\n",
      "Epoch 10/15\n",
      "33s - loss: 0.1178\n",
      "Epoch 11/15\n",
      "33s - loss: 0.1168\n",
      "Epoch 12/15\n",
      "33s - loss: 0.1174\n",
      "Epoch 13/15\n",
      "33s - loss: 0.1175\n",
      "Epoch 14/15\n",
      "33s - loss: 0.1164\n",
      "Epoch 15/15\n",
      "33s - loss: 0.1154\n"
     ]
    },
    {
     "data": {
      "text/plain": [
       "<keras.callbacks.History at 0x7f83dc7f27b8>"
      ]
     },
     "execution_count": 29,
     "metadata": {},
     "output_type": "execute_result"
    }
   ],
   "source": [
    "autoencoder.fit(X_sample, X_sample, batch_size = 64, epochs = 15, verbose = 2)"
   ]
  },
  {
   "cell_type": "code",
   "execution_count": 30,
   "metadata": {
    "collapsed": true
   },
   "outputs": [],
   "source": [
    "autoencoder.save_weights('../models/autoencoder_%dD.h5' % encoding_size)"
   ]
  },
  {
   "cell_type": "code",
   "execution_count": 31,
   "metadata": {
    "collapsed": true
   },
   "outputs": [],
   "source": [
    "autoencoder.load_weights('../models/autoencoder_%dD.h5' % encoding_size)"
   ]
  },
  {
   "cell_type": "code",
   "execution_count": 32,
   "metadata": {
    "collapsed": false
   },
   "outputs": [
    {
     "data": {
      "text/plain": [
       "<matplotlib.image.AxesImage at 0x7f83dc76fd30>"
      ]
     },
     "execution_count": 32,
     "metadata": {},
     "output_type": "execute_result"
    },
    {
     "data": {
      "image/png": "[encoded data removed]",
      "text/plain": [
       "<matplotlib.figure.Figure at 0x7f83e40486a0>"
      ]
     },
     "metadata": {},
     "output_type": "display_data"
    }
   ],
   "source": [
    "plt.imshow(X_sample[51].squeeze(), cmap = 'gray')"
   ]
  },
  {
   "cell_type": "code",
   "execution_count": 33,
   "metadata": {
    "collapsed": false
   },
   "outputs": [
    {
     "data": {
      "text/plain": [
       "<matplotlib.image.AxesImage at 0x7f83dc67e940>"
      ]
     },
     "execution_count": 33,
     "metadata": {},
     "output_type": "execute_result"
    },
    {
     "data": {
      "image/png": "[encoded data removed]",
      "text/plain": [
       "<matplotlib.figure.Figure at 0x7f83dc73a390>"
      ]
     },
     "metadata": {},
     "output_type": "display_data"
    }
   ],
   "source": [
    "plt.imshow(autoencoder.predict(np.expand_dims(X_sample[51], 0)).squeeze(), cmap = 'gray')"
   ]
  },
  {
   "cell_type": "code",
   "execution_count": 34,
   "metadata": {
    "collapsed": false
   },
   "outputs": [
    {
     "data": {
      "text/plain": [
       "<matplotlib.image.AxesImage at 0x7f83dc1d5320>"
      ]
     },
     "execution_count": 34,
     "metadata": {},
     "output_type": "execute_result"
    },
    {
     "data": {
      "image/png": "[encoded data removed]",
      "text/plain": [
       "<matplotlib.figure.Figure at 0x7f83dc690b00>"
      ]
     },
     "metadata": {},
     "output_type": "display_data"
    }
   ],
   "source": [
    "plt.imshow(X[51].squeeze(), cmap = 'gray')"
   ]
  },
  {
   "cell_type": "code",
   "execution_count": 35,
   "metadata": {
    "collapsed": false
   },
   "outputs": [
    {
     "data": {
      "text/plain": [
       "<matplotlib.image.AxesImage at 0x7f83dc15ac88>"
      ]
     },
     "execution_count": 35,
     "metadata": {},
     "output_type": "execute_result"
    },
    {
     "data": {
      "image/png": "[encoded data removed]",
      "text/plain": [
       "<matplotlib.figure.Figure at 0x7f83dc180208>"
      ]
     },
     "metadata": {},
     "output_type": "display_data"
    }
   ],
   "source": [
    "plt.imshow(autoencoder.predict(np.expand_dims(X[34], 0)).squeeze(), cmap = 'gray')"
   ]
  }
 ],
 "metadata": {
  "kernelspec": {
   "display_name": "Python 3",
   "language": "python",
   "name": "python3"
  },
  "language_info": {
   "codemirror_mode": {
    "name": "ipython",
    "version": 3
   },
   "file_extension": ".py",
   "mimetype": "text/x-python",
   "name": "python",
   "nbconvert_exporter": "python",
   "pygments_lexer": "ipython3",
   "version": "3.6.0"
  }
 },
 "nbformat": 4,
 "nbformat_minor": 2
}
